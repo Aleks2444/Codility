{
 "cells": [
  {
   "cell_type": "markdown",
   "id": "3eca4611",
   "metadata": {},
   "source": [
    "# 1. BinaryGap"
   ]
  },
  {
   "cell_type": "markdown",
   "id": "f69714ca",
   "metadata": {},
   "source": [
    "A binary gap within a positive integer N is any maximal sequence of consecutive zeros that is surrounded by ones at both ends in the binary representation of N.\n",
    "\n",
    "For example, number 9 has binary representation 1001 and contains a binary gap of length 2. The number 529 has binary representation 1000010001 and contains two binary gaps: one of length 4 and one of length 3. The number 20 has binary representation 10100 and contains one binary gap of length 1. The number 15 has binary representation 1111 and has no binary gaps. The number 32 has binary representation 100000 and has no binary gaps.\n",
    "\n",
    "Write a function:\n",
    "\n",
    "def solution(N)\n",
    "\n",
    "that, given a positive integer N, returns the length of its longest binary gap. The function should return 0 if N doesn't contain a binary gap.\n",
    "\n",
    "For example, given N = 1041 the function should return 5, because N has binary representation 10000010001 and so its longest binary gap is of length 5. Given N = 32 the function should return 0, because N has binary representation '100000' and thus no binary gaps.\n",
    "\n",
    "Write an efficient algorithm for the following assumptions:\n",
    "\n",
    "N is an integer within the range [1..2,147,483,647]."
   ]
  },
  {
   "cell_type": "code",
   "execution_count": 2,
   "id": "155fb344",
   "metadata": {},
   "outputs": [],
   "source": [
    "def solution(N):\n",
    "    D = []\n",
    "    count = 0\n",
    "    for i in bin(N):\n",
    "        if i == '1':\n",
    "            D.append(count)\n",
    "            count = 0\n",
    "        if i == '0':\n",
    "            count += 1\n",
    "    D.remove(D[0])\n",
    "    D.append(0)\n",
    "    return max(D)"
   ]
  },
  {
   "cell_type": "markdown",
   "id": "fdd1f260",
   "metadata": {},
   "source": [
    "*TESTING*"
   ]
  },
  {
   "cell_type": "code",
   "execution_count": 22,
   "id": "1397ca5b",
   "metadata": {},
   "outputs": [
    {
     "name": "stdout",
     "output_type": "stream",
     "text": [
      "1 For the binary representation 0b1010\n"
     ]
    }
   ],
   "source": [
    "N=10\n",
    "print(\"{} For the binary representation {}\".format(solution(N),bin(N)))"
   ]
  },
  {
   "cell_type": "code",
   "execution_count": 23,
   "id": "49fdeb31",
   "metadata": {},
   "outputs": [
    {
     "name": "stdout",
     "output_type": "stream",
     "text": [
      "3 For the binary representation 0b10001\n"
     ]
    }
   ],
   "source": [
    "N=17\n",
    "print(\"{} For the binary representation {}\".format(solution(N),bin(N)))"
   ]
  },
  {
   "cell_type": "code",
   "execution_count": 24,
   "id": "9e59e07f",
   "metadata": {},
   "outputs": [
    {
     "name": "stdout",
     "output_type": "stream",
     "text": [
      "1 For the binary representation 0b1011\n"
     ]
    }
   ],
   "source": [
    "N=11\n",
    "print(\"{} For the binary representation {}\".format(solution(N),bin(N)))"
   ]
  },
  {
   "cell_type": "code",
   "execution_count": 25,
   "id": "daaf0c66",
   "metadata": {},
   "outputs": [
    {
     "name": "stdout",
     "output_type": "stream",
     "text": [
      "9 For the binary representation 0b10000000001\n"
     ]
    }
   ],
   "source": [
    "N=1025\n",
    "print(\"{} For the binary representation {}\".format(solution(N),bin(N)))"
   ]
  },
  {
   "cell_type": "code",
   "execution_count": null,
   "id": "6b11f332",
   "metadata": {},
   "outputs": [],
   "source": []
  }
 ],
 "metadata": {
  "kernelspec": {
   "display_name": "Python 3 (ipykernel)",
   "language": "python",
   "name": "python3"
  },
  "language_info": {
   "codemirror_mode": {
    "name": "ipython",
    "version": 3
   },
   "file_extension": ".py",
   "mimetype": "text/x-python",
   "name": "python",
   "nbconvert_exporter": "python",
   "pygments_lexer": "ipython3",
   "version": "3.10.9"
  }
 },
 "nbformat": 4,
 "nbformat_minor": 5
}
